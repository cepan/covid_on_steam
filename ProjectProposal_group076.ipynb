{
 "cells": [
  {
   "cell_type": "markdown",
   "metadata": {},
   "source": [
    "# COGS 108 - Final Project Proposal"
   ]
  },
  {
   "cell_type": "markdown",
   "metadata": {},
   "source": [
    "# Names\n",
    "\n",
    "- Brandon Vazquez\n",
    "- Ernesto Escusa\n",
    "- Chung En Pan\n",
    "- Manuel Rodriguez Nunez\n",
    "- Eric Estabaya"
   ]
  },
  {
   "cell_type": "markdown",
   "metadata": {},
   "source": [
    "# Research Question\n",
    "How has the COVID-19 infection rate influenced the video game community?"
   ]
  },
  {
   "cell_type": "markdown",
   "metadata": {},
   "source": [
    "## Background and Prior Work\n",
    "As COVID-19 ravages across the globe, people become more reliant on computers and their other bits of technology. Unable to interact with others face-to-face, we are restricted to communicating through online mediums. With everybody being forced to stay at home all day staring at their screens, there is hardly a possibility for in-person interactions, which means we are all looking for some way to socialize and fill this gap. One specific medium are online video games, which promote the interaction we are longing for. Even though this is something that people have looked to for a while, those who are searching for something to do may find themselves interested in diving into the world of online games. Due to this, COVID-19 may have statistically impacted the realm of online games through revenue, concurrent number of people at once, and more.\n",
    "\n",
    "\n",
    "\n",
    "References:\n",
    "- https://www.weforum.org/agenda/2020/05/covid-19-taking-gaming-and-esports-next-level/"
   ]
  },
  {
   "cell_type": "markdown",
   "metadata": {},
   "source": [
    "# Hypothesis\n",
    "We hypothesize that with the increasing rate of infection the rise of the gaming population will also begin to climb due to the fact that many people will have more free time in their respective homes. We also believe that the increase in the gaming community will be seen towards the start of COVID-19."
   ]
  },
  {
   "cell_type": "markdown",
   "metadata": {},
   "source": [
    "# Data\n",
    "We will use a website that shows the graphs of infection spread and we will also use a website that can check the player count of popular games. This will allow us to take note on the total increase of gamers since the first months of COVID-19. This data would be collected using websites to gather data regarding COVID-19 and gaming.\n",
    "\n",
    "Data that are used will be acquired from \"ourworldindata.org\" which contains 59 columns and 62827 updated cases by each countries up until 29 January 2021. Primarily we will be using the total and additional cases by each countries with respect to the population of each country. Another dataset will be retrieved is from the Steam's API, primarly fetching the countries and the last login and log off info of each player on the Steam platform. COVID-19 dataset will be stored and manipulated as CSV format whereas the Steam's game dataset will output as JSON format."
   ]
  },
  {
   "cell_type": "markdown",
   "metadata": {},
   "source": [
    "# Ethics & Privacy\n",
    "The data we will be using is shown online, the details regarding COVID-19 spread are there to inform citizens so that it is ok to be used.Since most major covid information sites give out information to warn the people if infection rate in specific areas is public information it does not harm the users. We have also considered the underlying variables that are the cause of these finding. Some games that are also dead may come back because of random events to the player base. The data regarding video games is allowed to be used because it is part of the user agreements section when poeple begin to play the game. The users data being gathered as it is public knowledge to know how many players are on any gaming server at any time. This data does not infringe on the privacy of the gamers."
   ]
  },
  {
   "cell_type": "markdown",
   "metadata": {},
   "source": [
    "# Team Expectations \n",
    "* *Be respectful of others*\n",
    "* *Be on time whenever there is a meeting*\n",
    "* *Be communitive on the platform*\n",
    "* *Be willing to help others when others are having enmergency or difficulties*\n",
    "* *Specify what was being changed or updated on Github*\n",
    "* *Finish task before deadline*"
   ]
  },
  {
   "cell_type": "markdown",
   "metadata": {},
   "source": [
    "# Project Timeline Proposal\n",
    "| Meeting Date  | Meeting Time| Completed Before Meeting  | Discuss at Meeting |\n",
    "|---|---|---|---|\n",
    "| 1/21  |  9 PM | | research on final project topic; find the hypothesis regarding the topics; divide tasks |\n",
    "| 1/28  |  9:30 PM |  research topic decided; divide tasks for project proposal; begin rough draft for proposal |  finishing up rough draft project proposal, find the ideal dataset | \n",
    "| 2/  |   |   |    |\n",
    "| 2/ |   | |    |\n",
    "| 2/ | | | |\n",
    "| 3  |   | |  |\n",
    "| 3/ |  | | | "
   ]
  },
  {
   "cell_type": "code",
   "execution_count": null,
   "metadata": {},
   "outputs": [],
   "source": []
  }
 ],
 "metadata": {
  "kernelspec": {
   "display_name": "Python 3",
   "language": "python",
   "name": "python3"
  },
  "language_info": {
   "codemirror_mode": {
    "name": "ipython",
    "version": 3
   },
   "file_extension": ".py",
   "mimetype": "text/x-python",
   "name": "python",
   "nbconvert_exporter": "python",
   "pygments_lexer": "ipython3",
   "version": "3.8.5"
  }
 },
 "nbformat": 4,
 "nbformat_minor": 2
}
